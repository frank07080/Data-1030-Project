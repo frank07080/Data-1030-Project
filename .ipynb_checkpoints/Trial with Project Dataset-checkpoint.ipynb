{
 "cells": [
  {
   "cell_type": "code",
   "execution_count": 1,
   "metadata": {},
   "outputs": [],
   "source": [
    "import pandas as pd\n",
    "\n",
    "# load data from a csv file\n",
    "df = pd.read_csv('AB_NYC_2019.csv') # there are also pd.read_excel(), and pd.read_sql()"
   ]
  },
  {
   "cell_type": "code",
   "execution_count": 2,
   "metadata": {},
   "outputs": [
    {
     "name": "stdout",
     "output_type": "stream",
     "text": [
      "Size of this this csv is  (48895, 16)\n",
      "\n",
      "     id                                              name  host_id  \\\n",
      "0  2539                Clean & quiet apt home by the park     2787   \n",
      "1  2595                             Skylit Midtown Castle     2845   \n",
      "2  3647               THE VILLAGE OF HARLEM....NEW YORK !     4632   \n",
      "3  3831                   Cozy Entire Floor of Brownstone     4869   \n",
      "4  5022  Entire Apt: Spacious Studio/Loft by central park     7192   \n",
      "\n",
      "     host_name neighbourhood_group neighbourhood  latitude  longitude  \\\n",
      "0         John            Brooklyn    Kensington  40.64749  -73.97237   \n",
      "1     Jennifer           Manhattan       Midtown  40.75362  -73.98377   \n",
      "2    Elisabeth           Manhattan        Harlem  40.80902  -73.94190   \n",
      "3  LisaRoxanne            Brooklyn  Clinton Hill  40.68514  -73.95976   \n",
      "4        Laura           Manhattan   East Harlem  40.79851  -73.94399   \n",
      "\n",
      "         room_type  price  minimum_nights  number_of_reviews last_review  \\\n",
      "0     Private room    149               1                  9  2018-10-19   \n",
      "1  Entire home/apt    225               1                 45  2019-05-21   \n",
      "2     Private room    150               3                  0         NaN   \n",
      "3  Entire home/apt     89               1                270  2019-07-05   \n",
      "4  Entire home/apt     80              10                  9  2018-11-19   \n",
      "\n",
      "   reviews_per_month  calculated_host_listings_count  availability_365  \n",
      "0               0.21                               6               365  \n",
      "1               0.38                               2               355  \n",
      "2                NaN                               1               365  \n",
      "3               4.64                               1               194  \n",
      "4               0.10                               1                 0  \n"
     ]
    }
   ],
   "source": [
    "print(\"Size of this this csv is \", df.shape)\n",
    "print()\n",
    "print(df.head())"
   ]
  },
  {
   "cell_type": "code",
   "execution_count": 3,
   "metadata": {},
   "outputs": [
    {
     "name": "stdout",
     "output_type": "stream",
     "text": [
      "Manhattan        21661\n",
      "Brooklyn         20104\n",
      "Queens            5666\n",
      "Bronx             1091\n",
      "Staten Island      373\n",
      "Name: neighbourhood_group, dtype: int64\n",
      "1091\n"
     ]
    }
   ],
   "source": [
    "print(pd.value_counts(df['neighbourhood_group']))\n",
    "print(df[df['neighbourhood_group'] == 'Bronx'].shape[0])"
   ]
  },
  {
   "cell_type": "code",
   "execution_count": 4,
   "metadata": {},
   "outputs": [],
   "source": [
    "X_train1 = pd.DataFrame(df['neighbourhood_group'])"
   ]
  },
  {
   "cell_type": "code",
   "execution_count": 5,
   "metadata": {},
   "outputs": [
    {
     "name": "stdout",
     "output_type": "stream",
     "text": [
      "[array(['Bronx', 'Brooklyn', 'Manhattan', 'Queens', 'Staten Island'],\n",
      "      dtype=object)]\n",
      "[[1.]\n",
      " [2.]\n",
      " [2.]\n",
      " [1.]\n",
      " [2.]\n",
      " [2.]\n",
      " [1.]\n",
      " [2.]\n",
      " [2.]\n",
      " [2.]]\n",
      "0    1.0\n",
      "1    2.0\n",
      "2    2.0\n",
      "3    1.0\n",
      "4    2.0\n",
      "5    2.0\n",
      "6    1.0\n",
      "7    2.0\n",
      "8    2.0\n",
      "9    2.0\n",
      "Name: neighbourhood_group, dtype: float64\n"
     ]
    }
   ],
   "source": [
    "from sklearn.preprocessing import OneHotEncoder\n",
    "from sklearn.preprocessing import OrdinalEncoder\n",
    "\n",
    "# initialize the encoder\n",
    "enc = OrdinalEncoder(categories = [['Bronx','Brooklyn', 'Manhattan','Queens','Staten Island']]) # The ordered list of \n",
    "# fit the training data\n",
    "enc.fit(X_train1)\n",
    "# print the categories - not really important because we manually gave the ordered list of categories\n",
    "print(enc.categories_)\n",
    "# transform X_train. We could have used enc.fit_transform(X_train) to combine fit and transform\n",
    "X_train1_oe = enc.transform(X_train1)\n",
    "\n",
    "print(X_train1_oe[:10])\n",
    "df['neighbourhood_group'] = X_train1_oe\n",
    "print(df['neighbourhood_group'][:10])"
   ]
  },
  {
   "cell_type": "code",
   "execution_count": 6,
   "metadata": {},
   "outputs": [
    {
     "name": "stdout",
     "output_type": "stream",
     "text": [
      "[[-0.6922205 ]\n",
      " [-0.59105534]\n",
      " [        nan]\n",
      " [ 1.94402463]\n",
      " [-0.75768031]\n",
      " [-0.46608661]\n",
      " [-0.57915356]\n",
      " [ 1.24777027]\n",
      " [-0.22805093]\n",
      " [-0.02572061]]\n",
      "0   -0.692221\n",
      "1   -0.591055\n",
      "2         NaN\n",
      "3    1.944025\n",
      "4   -0.757680\n",
      "5   -0.466087\n",
      "6   -0.579154\n",
      "7    1.247770\n",
      "8   -0.228051\n",
      "9   -0.025721\n",
      "Name: reviews_per_month, dtype: float64\n"
     ]
    }
   ],
   "source": [
    "from sklearn.preprocessing import StandardScaler\n",
    "\n",
    "X_train2 = pd.DataFrame(df['reviews_per_month'])\n",
    "scaler = StandardScaler()\n",
    "X_train2_oe = scaler.fit_transform(X_train2)\n",
    "print(X_train2_oe[:10])\n",
    "\n",
    "df['reviews_per_month'] = X_train2_oe\n",
    "print(df['reviews_per_month'][:10])"
   ]
  },
  {
   "cell_type": "code",
   "execution_count": null,
   "metadata": {},
   "outputs": [],
   "source": []
  }
 ],
 "metadata": {
  "kernelspec": {
   "display_name": "Python 3",
   "language": "python",
   "name": "python3"
  },
  "language_info": {
   "codemirror_mode": {
    "name": "ipython",
    "version": 3
   },
   "file_extension": ".py",
   "mimetype": "text/x-python",
   "name": "python",
   "nbconvert_exporter": "python",
   "pygments_lexer": "ipython3",
   "version": "3.7.3"
  }
 },
 "nbformat": 4,
 "nbformat_minor": 4
}
