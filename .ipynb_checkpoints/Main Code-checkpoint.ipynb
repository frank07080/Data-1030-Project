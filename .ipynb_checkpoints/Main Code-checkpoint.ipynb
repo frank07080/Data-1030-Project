{
 "cells": [
  {
   "cell_type": "code",
   "execution_count": 1,
   "metadata": {},
   "outputs": [],
   "source": [
    "import pandas as pd\n",
    "import numpy as np\n",
    "from sklearn.preprocessing import OneHotEncoder\n",
    "from sklearn.preprocessing import OrdinalEncoder\n",
    "from sklearn.preprocessing import MinMaxScaler\n",
    "from sklearn.preprocessing import StandardScaler\n",
    "from sklearn.compose import ColumnTransformer\n",
    "from sklearn.pipeline import Pipeline\n",
    "from sklearn.experimental import enable_iterative_imputer\n",
    "from sklearn.impute import IterativeImputer\n",
    "from sklearn.ensemble import RandomForestRegressor\n",
    "from sklearn.preprocessing import LabelEncoder\n",
    "import matplotlib.pyplot as plt\n",
    "\n",
    "df = pd.read_csv('data/AB_NYC_2019.csv')"
   ]
  },
  {
   "cell_type": "code",
   "execution_count": 2,
   "metadata": {},
   "outputs": [
    {
     "name": "stdout",
     "output_type": "stream",
     "text": [
      "  neighbourhood_group        room_type  number_of_reviews  reviews_per_month  \\\n",
      "0            Brooklyn     Private room                  9               0.21   \n",
      "1           Manhattan  Entire home/apt                 45               0.38   \n",
      "2           Manhattan     Private room                  0                NaN   \n",
      "3            Brooklyn  Entire home/apt                270               4.64   \n",
      "4           Manhattan  Entire home/apt                  9               0.10   \n",
      "\n",
      "   availability_365  \n",
      "0               365  \n",
      "1               355  \n",
      "2               365  \n",
      "3               194  \n",
      "4                 0  \n",
      "(48895, 5)\n"
     ]
    }
   ],
   "source": [
    "df_5 = df[['neighbourhood_group','room_type','number_of_reviews','reviews_per_month','availability_365']]\n",
    "print(df_5.head())\n",
    "print(df_5.shape)"
   ]
  },
  {
   "cell_type": "code",
   "execution_count": 3,
   "metadata": {},
   "outputs": [
    {
     "name": "stdout",
     "output_type": "stream",
     "text": [
      "Manhattan        21661\n",
      "Brooklyn         20104\n",
      "Queens            5666\n",
      "Bronx             1091\n",
      "Staten Island      373\n",
      "Name: neighbourhood_group, dtype: int64\n",
      "\n",
      "Entire home/apt    25409\n",
      "Private room       22326\n",
      "Shared room         1160\n",
      "Name: room_type, dtype: int64\n"
     ]
    }
   ],
   "source": [
    "print(df['neighbourhood_group'].value_counts())\n",
    "print()\n",
    "print(df['room_type'].value_counts())"
   ]
  },
  {
   "cell_type": "code",
   "execution_count": 4,
   "metadata": {},
   "outputs": [],
   "source": [
    "cat_ftrs = ['neighbourhood_group']\n",
    "ordinal_ftrs = ['room_type']\n",
    "ordinal_cats = [['Entire home/apt','Private room','Shared room']]\n",
    "num_ftrs = ['number_of_reviews', 'reviews_per_month']\n",
    "\n",
    "categorical_transformer = Pipeline(steps=[\n",
    "    ('onehot', OneHotEncoder(sparse=False))])\n",
    "\n",
    "ordinal_transformer = Pipeline(steps=[\n",
    "    ('ordinal', OrdinalEncoder(categories = ordinal_cats))])\n",
    "\n",
    "numeric_transformer = Pipeline(steps=[\n",
    "    ('imputer', IterativeImputer(estimator=RandomForestRegressor(),random_state=3)),\n",
    "    ('scaler', StandardScaler())])\n",
    "\n",
    "preprocessor = ColumnTransformer(\n",
    "    transformers=[\n",
    "        ('cat', categorical_transformer, cat_ftrs),\n",
    "        ('ord', ordinal_transformer, ordinal_ftrs),\n",
    "        ('num', numeric_transformer, num_ftrs)])"
   ]
  },
  {
   "cell_type": "code",
   "execution_count": 5,
   "metadata": {},
   "outputs": [
    {
     "name": "stderr",
     "output_type": "stream",
     "text": [
      "/opt/conda/lib/python3.7/site-packages/sklearn/ensemble/forest.py:245: FutureWarning: The default value of n_estimators will change from 10 in version 0.20 to 100 in 0.22.\n",
      "  \"10 in version 0.20 to 100 in 0.22.\", FutureWarning)\n",
      "/opt/conda/lib/python3.7/site-packages/sklearn/ensemble/forest.py:245: FutureWarning: The default value of n_estimators will change from 10 in version 0.20 to 100 in 0.22.\n",
      "  \"10 in version 0.20 to 100 in 0.22.\", FutureWarning)\n"
     ]
    },
    {
     "name": "stdout",
     "output_type": "stream",
     "text": [
      "['x0_Bronx', 'x0_Brooklyn', 'x0_Manhattan', 'x0_Queens', 'x0_Staten Island', 'room_type', 'number_of_reviews', 'reviews_per_month']\n"
     ]
    }
   ],
   "source": [
    "X_prep = preprocessor.fit_transform(df_5)\n",
    "feature_names = list(preprocessor.named_transformers_['cat'][0].get_feature_names()) +\\\n",
    "                preprocessor.transformers_[1][-1] +\\\n",
    "                preprocessor.transformers_[2][-1]\n",
    "print(feature_names)"
   ]
  },
  {
   "cell_type": "code",
   "execution_count": 6,
   "metadata": {},
   "outputs": [
    {
     "name": "stdout",
     "output_type": "stream",
     "text": [
      "   x0_Bronx  x0_Brooklyn  x0_Manhattan  x0_Queens  x0_Staten Island  \\\n",
      "0       0.0          1.0           0.0        0.0               0.0   \n",
      "1       0.0          0.0           1.0        0.0               0.0   \n",
      "2       0.0          0.0           1.0        0.0               0.0   \n",
      "3       0.0          1.0           0.0        0.0               0.0   \n",
      "4       0.0          0.0           1.0        0.0               0.0   \n",
      "\n",
      "   room_type  number_of_reviews  reviews_per_month     price  \n",
      "0        1.0          -0.320414          -0.600217 -0.015493  \n",
      "1        0.0           0.487665          -0.491387  0.300974  \n",
      "2        1.0          -0.522433          -0.558200 -0.011329  \n",
      "3        0.0           5.538156           2.235780 -0.265335  \n",
      "4        0.0          -0.320414          -0.670637 -0.302811  \n",
      "       x0_Bronx  x0_Brooklyn  x0_Manhattan  x0_Queens  x0_Staten Island  \\\n",
      "2698        0.0          0.0           1.0        0.0               0.0   \n",
      "3537        0.0          0.0           1.0        0.0               0.0   \n",
      "3720        0.0          0.0           1.0        0.0               0.0   \n",
      "3774        0.0          1.0           0.0        0.0               0.0   \n",
      "4345        0.0          1.0           0.0        0.0               0.0   \n",
      "4377        0.0          1.0           0.0        0.0               0.0   \n",
      "6530        0.0          0.0           1.0        0.0               0.0   \n",
      "9151        0.0          0.0           0.0        1.0               0.0   \n",
      "12342       0.0          0.0           1.0        0.0               0.0   \n",
      "15560       0.0          0.0           1.0        0.0               0.0   \n",
      "\n",
      "       room_type  number_of_reviews  reviews_per_month      price  \n",
      "2698         0.0          -0.477540          -0.715450  20.184238  \n",
      "3537         0.0          -0.140841          -0.561806  24.348272  \n",
      "3720         0.0          -0.522433          -0.558200  21.225246  \n",
      "3774         0.0          -0.522433          -0.558200  26.430289  \n",
      "4345         1.0          -0.297967          -0.632226  20.184238  \n",
      "4377         0.0          -0.499987          -0.715450  32.676341  \n",
      "6530         0.0          -0.499987          -0.721851  41.000246  \n",
      "9151         1.0          -0.477540          -0.709048  41.004410  \n",
      "12342        1.0          -0.387753          -0.645030  41.000246  \n",
      "15560        0.0          -0.522433          -0.558200  24.348272  \n"
     ]
    }
   ],
   "source": [
    "df_preprocessed = pd.DataFrame(data=X_prep,columns=feature_names)\n",
    "label = df['price'].copy()\n",
    "#label[label < 100] = 0\n",
    "#label[label > 100] = 1\n",
    "#lab_enc = LabelEncoder()\n",
    "#df_label = lab_enc.fit_transform(label)\n",
    "lab_enc = StandardScaler()\n",
    "df_label = lab_enc.fit_transform(pd.DataFrame(label))\n",
    "price = pd.DataFrame(df_label, columns=['price'])\n",
    "df1_preprocessed = pd.concat([df_preprocessed, price], axis=1)\n",
    "print(df1_preprocessed.head())\n",
    "print(df1_preprocessed[df1_preprocessed[\"price\"] > 20][:10])"
   ]
  },
  {
   "cell_type": "code",
   "execution_count": 7,
   "metadata": {},
   "outputs": [
    {
     "data": {
      "image/png": "[encoded data removed]",
      "text/plain": [
       "<Figure size 432x288 with 1 Axes>"
      ]
     },
     "metadata": {
      "needs_background": "light"
     },
     "output_type": "display_data"
    }
   ],
   "source": [
    "df1_preprocessed[['price','room_type']].boxplot(by='room_type')\n",
    "plt.ylabel('price')\n",
    "plt.show()"
   ]
  },
  {
   "cell_type": "code",
   "execution_count": 8,
   "metadata": {},
   "outputs": [
    {
     "data": {
      "image/png": "[encoded data removed]",
      "text/plain": [
       "<Figure size 432x288 with 1 Axes>"
      ]
     },
     "metadata": {
      "needs_background": "light"
     },
     "output_type": "display_data"
    }
   ],
   "source": [
    "plt.scatter(df1_preprocessed['number_of_reviews'],df1_preprocessed['price'])\n",
    "plt.xlabel(\"number_of_reviews\")\n",
    "plt.ylabel(\"price\")\n",
    "plt.show()"
   ]
  },
  {
   "cell_type": "code",
   "execution_count": 9,
   "metadata": {},
   "outputs": [
    {
     "data": {
      "image/png": "[encoded data removed]",
      "text/plain": [
       "<Figure size 432x288 with 1 Axes>"
      ]
     },
     "metadata": {
      "needs_background": "light"
     },
     "output_type": "display_data"
    }
   ],
   "source": [
    "df[['price','neighbourhood_group']].boxplot(by='neighbourhood_group')\n",
    "plt.ylabel('price')\n",
    "plt.show()"
   ]
  },
  {
   "cell_type": "code",
   "execution_count": null,
   "metadata": {},
   "outputs": [],
   "source": []
  }
 ],
 "metadata": {
  "kernelspec": {
   "display_name": "Python 3",
   "language": "python",
   "name": "python3"
  },
  "language_info": {
   "codemirror_mode": {
    "name": "ipython",
    "version": 3
   },
   "file_extension": ".py",
   "mimetype": "text/x-python",
   "name": "python",
   "nbconvert_exporter": "python",
   "pygments_lexer": "ipython3",
   "version": "3.7.3"
  }
 },
 "nbformat": 4,
 "nbformat_minor": 4
}
