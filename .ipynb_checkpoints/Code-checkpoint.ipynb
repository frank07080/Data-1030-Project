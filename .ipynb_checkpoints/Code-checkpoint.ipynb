{
 "cells": [
  {
   "cell_type": "code",
   "execution_count": 1,
   "metadata": {},
   "outputs": [],
   "source": [
    "import pandas as pd\n",
    "from sklearn.preprocessing import OneHotEncoder\n",
    "from sklearn.preprocessing import OrdinalEncoder\n",
    "from sklearn.preprocessing import MinMaxScaler\n",
    "from sklearn.preprocessing import StandardScaler\n",
    "\n",
    "df = pd.read_csv('data/AB_NYC_2019.csv')"
   ]
  },
  {
   "cell_type": "code",
   "execution_count": 2,
   "metadata": {},
   "outputs": [
    {
     "name": "stdout",
     "output_type": "stream",
     "text": [
      "[[0. 1. 0. 0. 0.]\n",
      " [0. 0. 1. 0. 0.]\n",
      " [0. 0. 1. 0. 0.]\n",
      " [0. 1. 0. 0. 0.]\n",
      " [0. 0. 1. 0. 0.]\n",
      " [0. 0. 1. 0. 0.]\n",
      " [0. 1. 0. 0. 0.]\n",
      " [0. 0. 1. 0. 0.]\n",
      " [0. 0. 1. 0. 0.]\n",
      " [0. 0. 1. 0. 0.]]\n"
     ]
    }
   ],
   "source": [
    "X_train1 = pd.DataFrame(df['neighbourhood_group'])\n",
    "\n",
    "enc = OneHotEncoder(sparse=False, handle_unknown='ignore')\n",
    "X_train1_ohe = enc.fit_transform(X_train1)\n",
    "print(X_train1_ohe[:10])"
   ]
  },
  {
   "cell_type": "code",
   "execution_count": 3,
   "metadata": {},
   "outputs": [
    {
     "name": "stdout",
     "output_type": "stream",
     "text": [
      "[[1.]\n",
      " [0.]\n",
      " [1.]\n",
      " [0.]\n",
      " [0.]\n",
      " [0.]\n",
      " [1.]\n",
      " [1.]\n",
      " [1.]\n",
      " [0.]]\n"
     ]
    }
   ],
   "source": [
    "X_train2 = pd.DataFrame(df['room_type'])\n",
    "\n",
    "enc = OrdinalEncoder(categories = [['Entire home/apt','Private room', 'Shared room']]) \n",
    "X_train2_oe = enc.fit_transform(X_train2)\n",
    "\n",
    "print(X_train2_oe[:10])"
   ]
  },
  {
   "cell_type": "code",
   "execution_count": 4,
   "metadata": {},
   "outputs": [
    {
     "name": "stdout",
     "output_type": "stream",
     "text": [
      "[[-0.32041358]\n",
      " [ 0.48766493]\n",
      " [-0.52243321]\n",
      " [ 5.53815562]\n",
      " [-0.32041358]\n",
      " [ 1.13861706]\n",
      " [ 0.57745143]\n",
      " [ 9.12961566]\n",
      " [ 2.12626857]\n",
      " [ 3.06902683]]\n"
     ]
    }
   ],
   "source": [
    "X_train3 = pd.DataFrame(df['number_of_reviews'])\n",
    "\n",
    "scaler = StandardScaler()\n",
    "X_train3_ss = scaler.fit_transform(X_train3)\n",
    "\n",
    "print(X_train3_ss[:10])"
   ]
  },
  {
   "cell_type": "code",
   "execution_count": 5,
   "metadata": {},
   "outputs": [
    {
     "name": "stdout",
     "output_type": "stream",
     "text": [
      "[[-0.6922205 ]\n",
      " [-0.59105534]\n",
      " [        nan]\n",
      " [ 1.94402463]\n",
      " [-0.75768031]\n",
      " [-0.46608661]\n",
      " [-0.57915356]\n",
      " [ 1.24777027]\n",
      " [-0.22805093]\n",
      " [-0.02572061]]\n"
     ]
    }
   ],
   "source": [
    "X_train4 = pd.DataFrame(df['reviews_per_month'])\n",
    "\n",
    "scaler = StandardScaler()\n",
    "X_train4_ss = scaler.fit_transform(X_train4)\n",
    "\n",
    "print(X_train4_ss[:10])"
   ]
  },
  {
   "cell_type": "code",
   "execution_count": 6,
   "metadata": {},
   "outputs": [
    {
     "name": "stdout",
     "output_type": "stream",
     "text": [
      "[[1.        ]\n",
      " [0.97260274]\n",
      " [1.        ]\n",
      " [0.53150685]\n",
      " [0.        ]\n",
      " [0.35342466]\n",
      " [0.        ]\n",
      " [0.60273973]\n",
      " [0.        ]\n",
      " [0.51506849]]\n"
     ]
    }
   ],
   "source": [
    "X_train5 = pd.DataFrame(df['availability_365'])\n",
    "\n",
    "scaler = MinMaxScaler()\n",
    "X_train5_mm = scaler.fit_transform(X_train5)\n",
    "\n",
    "print(X_train5_mm[:10])"
   ]
  },
  {
   "cell_type": "code",
   "execution_count": null,
   "metadata": {},
   "outputs": [],
   "source": []
  }
 ],
 "metadata": {
  "kernelspec": {
   "display_name": "Python 3",
   "language": "python",
   "name": "python3"
  },
  "language_info": {
   "codemirror_mode": {
    "name": "ipython",
    "version": 3
   },
   "file_extension": ".py",
   "mimetype": "text/x-python",
   "name": "python",
   "nbconvert_exporter": "python",
   "pygments_lexer": "ipython3",
   "version": "3.7.3"
  }
 },
 "nbformat": 4,
 "nbformat_minor": 4
}
